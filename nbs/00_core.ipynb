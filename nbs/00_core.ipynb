{
 "cells": [
  {
   "cell_type": "code",
   "execution_count": null,
   "id": "3de405d0",
   "metadata": {},
   "outputs": [],
   "source": [
    "#| default_exp core"
   ]
  },
  {
   "cell_type": "markdown",
   "id": "bdfca9e9",
   "metadata": {},
   "source": [
    "# Core source\n",
    "- Source code for core API"
   ]
  },
  {
   "cell_type": "code",
   "execution_count": null,
   "id": "7d19f793",
   "metadata": {},
   "outputs": [],
   "source": [
    "#| export\n",
    "from fa6_icons.icons import icons\n",
    "from fastcore.utils import *"
   ]
  },
  {
   "cell_type": "code",
   "execution_count": null,
   "id": "2c6bf9dc",
   "metadata": {},
   "outputs": [],
   "source": [
    "#| export\n",
    "class HtmlNotStr(NotStr):\n",
    "    \"Behaves like a `str`, but isn't a `str`, and renders HTML in a notebook\"\n",
    "    def _repr_html_(self): return str(self)"
   ]
  },
  {
   "cell_type": "code",
   "execution_count": null,
   "id": "f1102326",
   "metadata": {},
   "outputs": [],
   "source": [
    "#| export\n",
    "def SvgIcon(icon, width:int=16, viewbox: str = \"\", cls: str = \"\", xmlns=\"http://www.w3.org/2000/svg\", color: str = \"currentColor\", style: str =\"\", **kwargs):\n",
    "    if not viewbox: viewbox = \" \".join(map(str, icon[\"viewBox\"]))\n",
    "    additional_style = []\n",
    "    if width: additional_style.append(f\"max-width: {width}px\")\n",
    "    if color: additional_style.append(f\"fill: {color}\")\n",
    "    if additional_style: style = f'{style}; {\"; \".join(additional_style)}' if style else \"; \".join(additional_style)\n",
    "    style_attr = f' style=\"{style}\"' if style else ''\n",
    "    cls_attr = f' class=\"{cls}\"' if cls else ''\n",
    "    attrs = \" \".join(f'{k}=\"{v}\"' for k, v in kwargs.items())\n",
    "    return HtmlNotStr(f'<svg xmlns=\"{xmlns}\"{cls_attr}{style_attr} viewBox=\"{viewbox}\"{attrs}><path d=\"{icon['path']}\"/></svg>')"
   ]
  },
  {
   "cell_type": "code",
   "execution_count": null,
   "id": "cdd47686",
   "metadata": {},
   "outputs": [],
   "source": [
    "icon = icons[\"address-book\"][\"svg\"][\"regular\"]\n"
   ]
  },
  {
   "cell_type": "code",
   "execution_count": null,
   "id": "52cc9eae",
   "metadata": {},
   "outputs": [
    {
     "data": {
      "text/html": [
       "<svg xmlns=\"http://www.w3.org/2000/svg\" style=\"max-width: 16px; fill: currentColor\" viewBox=\"0 0 512 512\"><path d=\"M384 48c8.8 0 16 7.2 16 16l0 384c0 8.8-7.2 16-16 16L96 464c-8.8 0-16-7.2-16-16L80 64c0-8.8 7.2-16 16-16l288 0zM96 0C60.7 0 32 28.7 32 64l0 384c0 35.3 28.7 64 64 64l288 0c35.3 0 64-28.7 64-64l0-384c0-35.3-28.7-64-64-64L96 0zM240 256a64 64 0 1 0 0-128 64 64 0 1 0 0 128zm-32 32c-44.2 0-80 35.8-80 80c0 8.8 7.2 16 16 16l192 0c8.8 0 16-7.2 16-16c0-44.2-35.8-80-80-80l-64 0zM512 80c0-8.8-7.2-16-16-16s-16 7.2-16 16l0 64c0 8.8 7.2 16 16 16s16-7.2 16-16l0-64zM496 192c-8.8 0-16 7.2-16 16l0 64c0 8.8 7.2 16 16 16s16-7.2 16-16l0-64c0-8.8-7.2-16-16-16zm16 144c0-8.8-7.2-16-16-16s-16 7.2-16 16l0 64c0 8.8 7.2 16 16 16s16-7.2 16-16l0-64z\"/></svg>"
      ],
      "text/plain": [
       "'<svg xmlns=\"http://www.w3.org/2000/svg\" style=\"max-width: 16px; fill: currentColor\" viewBox=\"0 0 512 512\"><path d=\"M384 48c8.8 0 16 7.2 16 16l0 384c0 8.8-7.2 16-16 16L96 464c-8.8 0-16-7.2-16-16L80 64c0-8.8 7.2-16 16-16l288 0zM96 0C60.7 0 32 28.7 32 64l0 384c0 35.3 28.7 64 64 64l288 0c35.3 0 64-28.7 64-64l0-384c0-35.3-28.7-64-64-64L96 0zM240 256a64 64 0 1 0 0-128 64 64 0 1 0 0 128zm-32 32c-44.2 0-80 35.8-80 80c0 8.8 7.2 16 16 16l192 0c8.8 0 16-7.2 16-16c0-44.2-35.8-80-80-80l-64 0zM512 80c0-8.8-7.2-16-16-16s-16 7.2-16 16l0 64c0 8.8 7.2 16 16 16s16-7.2 16-16l0-64zM496 192c-8.8 0-16 7.2-16 16l0 64c0 8.8 7.2 16 16 16s16-7.2 16-16l0-64c0-8.8-7.2-16-16-16zm16 144c0-8.8-7.2-16-16-16s-16 7.2-16 16l0 64c0 8.8 7.2 16 16 16s16-7.2 16-16l0-64z\"/></svg>'"
      ]
     },
     "execution_count": null,
     "metadata": {},
     "output_type": "execute_result"
    }
   ],
   "source": [
    "SvgIcon(icon)"
   ]
  },
  {
   "cell_type": "code",
   "execution_count": null,
   "id": "ad3183fb",
   "metadata": {},
   "outputs": [
    {
     "data": {
      "text/html": [
       "<svg xmlns=\"http://www.w3.org/2000/svg\" style=\"max-width: 32px; fill: #ff0000\" viewBox=\"0 0 512 512\"><path d=\"M384 48c8.8 0 16 7.2 16 16l0 384c0 8.8-7.2 16-16 16L96 464c-8.8 0-16-7.2-16-16L80 64c0-8.8 7.2-16 16-16l288 0zM96 0C60.7 0 32 28.7 32 64l0 384c0 35.3 28.7 64 64 64l288 0c35.3 0 64-28.7 64-64l0-384c0-35.3-28.7-64-64-64L96 0zM240 256a64 64 0 1 0 0-128 64 64 0 1 0 0 128zm-32 32c-44.2 0-80 35.8-80 80c0 8.8 7.2 16 16 16l192 0c8.8 0 16-7.2 16-16c0-44.2-35.8-80-80-80l-64 0zM512 80c0-8.8-7.2-16-16-16s-16 7.2-16 16l0 64c0 8.8 7.2 16 16 16s16-7.2 16-16l0-64zM496 192c-8.8 0-16 7.2-16 16l0 64c0 8.8 7.2 16 16 16s16-7.2 16-16l0-64c0-8.8-7.2-16-16-16zm16 144c0-8.8-7.2-16-16-16s-16 7.2-16 16l0 64c0 8.8 7.2 16 16 16s16-7.2 16-16l0-64z\"/></svg>"
      ],
      "text/plain": [
       "'<svg xmlns=\"http://www.w3.org/2000/svg\" style=\"max-width: 32px; fill: #ff0000\" viewBox=\"0 0 512 512\"><path d=\"M384 48c8.8 0 16 7.2 16 16l0 384c0 8.8-7.2 16-16 16L96 464c-8.8 0-16-7.2-16-16L80 64c0-8.8 7.2-16 16-16l288 0zM96 0C60.7 0 32 28.7 32 64l0 384c0 35.3 28.7 64 64 64l288 0c35.3 0 64-28.7 64-64l0-384c0-35.3-28.7-64-64-64L96 0zM240 256a64 64 0 1 0 0-128 64 64 0 1 0 0 128zm-32 32c-44.2 0-80 35.8-80 80c0 8.8 7.2 16 16 16l192 0c8.8 0 16-7.2 16-16c0-44.2-35.8-80-80-80l-64 0zM512 80c0-8.8-7.2-16-16-16s-16 7.2-16 16l0 64c0 8.8 7.2 16 16 16s16-7.2 16-16l0-64zM496 192c-8.8 0-16 7.2-16 16l0 64c0 8.8 7.2 16 16 16s16-7.2 16-16l0-64c0-8.8-7.2-16-16-16zm16 144c0-8.8-7.2-16-16-16s-16 7.2-16 16l0 64c0 8.8 7.2 16 16 16s16-7.2 16-16l0-64z\"/></svg>'"
      ]
     },
     "execution_count": null,
     "metadata": {},
     "output_type": "execute_result"
    }
   ],
   "source": [
    "SvgIcon(icon, width=32, color=\"#ff0000\")"
   ]
  },
  {
   "cell_type": "code",
   "execution_count": null,
   "id": "0f3d7683",
   "metadata": {},
   "outputs": [
    {
     "data": {
      "text/html": [
       "<svg xmlns=\"http://www.w3.org/2000/svg\" style=\"background: #ff00cd; max-width: 32px; fill: #ffff00\" viewBox=\"0 0 512 512\"><path d=\"M384 48c8.8 0 16 7.2 16 16l0 384c0 8.8-7.2 16-16 16L96 464c-8.8 0-16-7.2-16-16L80 64c0-8.8 7.2-16 16-16l288 0zM96 0C60.7 0 32 28.7 32 64l0 384c0 35.3 28.7 64 64 64l288 0c35.3 0 64-28.7 64-64l0-384c0-35.3-28.7-64-64-64L96 0zM240 256a64 64 0 1 0 0-128 64 64 0 1 0 0 128zm-32 32c-44.2 0-80 35.8-80 80c0 8.8 7.2 16 16 16l192 0c8.8 0 16-7.2 16-16c0-44.2-35.8-80-80-80l-64 0zM512 80c0-8.8-7.2-16-16-16s-16 7.2-16 16l0 64c0 8.8 7.2 16 16 16s16-7.2 16-16l0-64zM496 192c-8.8 0-16 7.2-16 16l0 64c0 8.8 7.2 16 16 16s16-7.2 16-16l0-64c0-8.8-7.2-16-16-16zm16 144c0-8.8-7.2-16-16-16s-16 7.2-16 16l0 64c0 8.8 7.2 16 16 16s16-7.2 16-16l0-64z\"/></svg>"
      ],
      "text/plain": [
       "'<svg xmlns=\"http://www.w3.org/2000/svg\" style=\"background: #ff00cd; max-width: 32px; fill: #ffff00\" viewBox=\"0 0 512 512\"><path d=\"M384 48c8.8 0 16 7.2 16 16l0 384c0 8.8-7.2 16-16 16L96 464c-8.8 0-16-7.2-16-16L80 64c0-8.8 7.2-16 16-16l288 0zM96 0C60.7 0 32 28.7 32 64l0 384c0 35.3 28.7 64 64 64l288 0c35.3 0 64-28.7 64-64l0-384c0-35.3-28.7-64-64-64L96 0zM240 256a64 64 0 1 0 0-128 64 64 0 1 0 0 128zm-32 32c-44.2 0-80 35.8-80 80c0 8.8 7.2 16 16 16l192 0c8.8 0 16-7.2 16-16c0-44.2-35.8-80-80-80l-64 0zM512 80c0-8.8-7.2-16-16-16s-16 7.2-16 16l0 64c0 8.8 7.2 16 16 16s16-7.2 16-16l0-64zM496 192c-8.8 0-16 7.2-16 16l0 64c0 8.8 7.2 16 16 16s16-7.2 16-16l0-64c0-8.8-7.2-16-16-16zm16 144c0-8.8-7.2-16-16-16s-16 7.2-16 16l0 64c0 8.8 7.2 16 16 16s16-7.2 16-16l0-64z\"/></svg>'"
      ]
     },
     "execution_count": null,
     "metadata": {},
     "output_type": "execute_result"
    }
   ],
   "source": [
    "SvgIcon(icon, width=32, color=\"#ffff00\", style=\"background: #ff00cd\")\n"
   ]
  },
  {
   "cell_type": "code",
   "execution_count": null,
   "id": "bf73c2b9",
   "metadata": {},
   "outputs": [
    {
     "data": {
      "text/html": [
       "<svg xmlns=\"http://www.w3.org/2000/svg\" style=\"background: #ff00cd; max-width: 64px; fill: currentColor\" viewBox=\"0 0 512 512\"><path d=\"M384 48c8.8 0 16 7.2 16 16l0 384c0 8.8-7.2 16-16 16L96 464c-8.8 0-16-7.2-16-16L80 64c0-8.8 7.2-16 16-16l288 0zM96 0C60.7 0 32 28.7 32 64l0 384c0 35.3 28.7 64 64 64l288 0c35.3 0 64-28.7 64-64l0-384c0-35.3-28.7-64-64-64L96 0zM240 256a64 64 0 1 0 0-128 64 64 0 1 0 0 128zm-32 32c-44.2 0-80 35.8-80 80c0 8.8 7.2 16 16 16l192 0c8.8 0 16-7.2 16-16c0-44.2-35.8-80-80-80l-64 0zM512 80c0-8.8-7.2-16-16-16s-16 7.2-16 16l0 64c0 8.8 7.2 16 16 16s16-7.2 16-16l0-64zM496 192c-8.8 0-16 7.2-16 16l0 64c0 8.8 7.2 16 16 16s16-7.2 16-16l0-64c0-8.8-7.2-16-16-16zm16 144c0-8.8-7.2-16-16-16s-16 7.2-16 16l0 64c0 8.8 7.2 16 16 16s16-7.2 16-16l0-64z\"/></svg>"
      ],
      "text/plain": [
       "'<svg xmlns=\"http://www.w3.org/2000/svg\" style=\"background: #ff00cd; max-width: 64px; fill: currentColor\" viewBox=\"0 0 512 512\"><path d=\"M384 48c8.8 0 16 7.2 16 16l0 384c0 8.8-7.2 16-16 16L96 464c-8.8 0-16-7.2-16-16L80 64c0-8.8 7.2-16 16-16l288 0zM96 0C60.7 0 32 28.7 32 64l0 384c0 35.3 28.7 64 64 64l288 0c35.3 0 64-28.7 64-64l0-384c0-35.3-28.7-64-64-64L96 0zM240 256a64 64 0 1 0 0-128 64 64 0 1 0 0 128zm-32 32c-44.2 0-80 35.8-80 80c0 8.8 7.2 16 16 16l192 0c8.8 0 16-7.2 16-16c0-44.2-35.8-80-80-80l-64 0zM512 80c0-8.8-7.2-16-16-16s-16 7.2-16 16l0 64c0 8.8 7.2 16 16 16s16-7.2 16-16l0-64zM496 192c-8.8 0-16 7.2-16 16l0 64c0 8.8 7.2 16 16 16s16-7.2 16-16l0-64c0-8.8-7.2-16-16-16zm16 144c0-8.8-7.2-16-16-16s-16 7.2-16 16l0 64c0 8.8 7.2 16 16 16s16-7.2 16-16l0-64z\"/></svg>'"
      ]
     },
     "execution_count": null,
     "metadata": {},
     "output_type": "execute_result"
    }
   ],
   "source": [
    "SvgIcon(icon, width=64, style=\"background: #ff00cd\")"
   ]
  },
  {
   "cell_type": "code",
   "execution_count": null,
   "id": "6985bacd",
   "metadata": {},
   "outputs": [],
   "source": [
    "#| export\n",
    "def _svgs(o): return {k:v for k,v in o.items()}\n",
    "\n",
    "def _name(o):\n",
    "    if o[0].isdigit(): o = \"_\"+o\n",
    "    return o.replace(\"-\",\"_\")\n",
    "\n",
    "svgs = dict2obj({_name(k):_svgs(v[\"svg\"]) for k,v in icons.items()})"
   ]
  },
  {
   "cell_type": "code",
   "execution_count": null,
   "id": "76ed5d65",
   "metadata": {},
   "outputs": [
    {
     "data": {
      "text/markdown": [
       "```json\n",
       "{ 'height': 512,\n",
       "  'last_modified': 1717164890,\n",
       "  'path': 'M0 192C0 103.6 71.6 32 160 32s160 71.6 160 160l0 128c0 88.4-71.6 '\n",
       "          '160-160 160S0 408.4 0 320L0 192zM160 96c-53 0-96 43-96 96l0 128c0 '\n",
       "          '53 43 96 96 96s96-43 96-96l0-128c0-53-43-96-96-96z',\n",
       "  'raw': '<svg xmlns=\"http://www.w3.org/2000/svg\" viewBox=\"0 0 320 512\"><path '\n",
       "         'd=\"M0 192C0 103.6 71.6 32 160 32s160 71.6 160 160l0 128c0 88.4-71.6 '\n",
       "         '160-160 160S0 408.4 0 320L0 192zM160 96c-53 0-96 43-96 96l0 128c0 53 '\n",
       "         '43 96 96 96s96-43 96-96l0-128c0-53-43-96-96-96z\"/></svg>',\n",
       "  'viewBox': [0, 0, 320, 512],\n",
       "  'width': 320}\n",
       "```"
      ],
      "text/plain": [
       "{'last_modified': 1717164890,\n",
       " 'raw': '<svg xmlns=\"http://www.w3.org/2000/svg\" viewBox=\"0 0 320 512\"><path d=\"M0 192C0 103.6 71.6 32 160 32s160 71.6 160 160l0 128c0 88.4-71.6 160-160 160S0 408.4 0 320L0 192zM160 96c-53 0-96 43-96 96l0 128c0 53 43 96 96 96s96-43 96-96l0-128c0-53-43-96-96-96z\"/></svg>',\n",
       " 'viewBox': (#4) [0,0,320,512],\n",
       " 'width': 320,\n",
       " 'height': 512,\n",
       " 'path': 'M0 192C0 103.6 71.6 32 160 32s160 71.6 160 160l0 128c0 88.4-71.6 160-160 160S0 408.4 0 320L0 192zM160 96c-53 0-96 43-96 96l0 128c0 53 43 96 96 96s96-43 96-96l0-128c0-53-43-96-96-96z'}"
      ]
     },
     "execution_count": null,
     "metadata": {},
     "output_type": "execute_result"
    }
   ],
   "source": [
    "svgs._0.solid"
   ]
  },
  {
   "cell_type": "code",
   "execution_count": null,
   "id": "1ea5492f",
   "metadata": {},
   "outputs": [],
   "source": [
    "#| export\n",
    "def _dims(o): return {k:(v[\"height\"],v[\"width\"]) for k,v in o.items()}\n",
    "\n",
    "dims = dict2obj({_name(k):_dims(v[\"svg\"]) for k,v in icons.items()})"
   ]
  },
  {
   "cell_type": "code",
   "execution_count": null,
   "id": "37371158",
   "metadata": {},
   "outputs": [
    {
     "data": {
      "text/plain": [
       "(512, 320)"
      ]
     },
     "execution_count": null,
     "metadata": {},
     "output_type": "execute_result"
    }
   ],
   "source": [
    "dims._0.solid"
   ]
  },
  {
   "cell_type": "markdown",
   "id": "474e14b4",
   "metadata": {},
   "source": [
    "## Export -"
   ]
  },
  {
   "cell_type": "code",
   "execution_count": null,
   "id": "d211e8e2",
   "metadata": {},
   "outputs": [],
   "source": [
    "#|hide\n",
    "import nbdev; nbdev.nbdev_export()"
   ]
  }
 ],
 "metadata": {
  "kernelspec": {
   "display_name": "python3",
   "language": "python",
   "name": "python3"
  }
 },
 "nbformat": 4,
 "nbformat_minor": 5
}
