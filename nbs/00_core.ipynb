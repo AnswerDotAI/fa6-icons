{
 "cells": [
  {
   "cell_type": "code",
   "execution_count": null,
   "id": "3de405d0",
   "metadata": {},
   "outputs": [],
   "source": [
    "#| default_exp core"
   ]
  },
  {
   "cell_type": "markdown",
   "id": "bdfca9e9",
   "metadata": {},
   "source": [
    "# Core source\n",
    "- Source code for core API"
   ]
  },
  {
   "cell_type": "code",
   "execution_count": null,
   "id": "7d19f793",
   "metadata": {},
   "outputs": [],
   "source": [
    "#| export\n",
    "from fa6_icons.icons import icons\n",
    "from fastcore.utils import *"
   ]
  },
  {
   "cell_type": "code",
   "execution_count": null,
   "id": "2c6bf9dc",
   "metadata": {},
   "outputs": [],
   "source": [
    "#| export\n",
    "class HtmlNotStr(NotStr):\n",
    "    \"Behaves like a `str`, but isn't a `str`, and renders HTML in a notebook\"\n",
    "    def _repr_html_(self): return str(self)\n",
    "    \n",
    "class SvgNotStr(NotStr):\n",
    "    \"Behaves list a `str`, but isn't a `str`, and displays as SVG in a notebook\"\n",
    "    w=150\n",
    "    def _repr_html_(self): return f'<div style=\"max-width: {self.w}px; width: 100%;\">{self}</div>'\n",
    "    def width(self, w:int):\n",
    "        \"Set the width and return self\"\n",
    "        self.w = w\n",
    "        return self"
   ]
  },
  {
   "cell_type": "code",
   "execution_count": null,
   "id": "cdd47686",
   "metadata": {},
   "outputs": [
    {
     "data": {
      "text/plain": [
       "{'last_modified': 1717159419,\n",
       " 'path': 'M384 48c8.8 0 16 7.2 16 16l0 384c0 8.8-7.2 16-16 16L96 464c-8.8 0-16-7.2-16-16L80 64c0-8.8 7.2-16 16-16l288 0zM96 0C60.7 0 32 28.7 32 64l0 384c0 35.3 28.7 64 64 64l288 0c35.3 0 64-28.7 64-64l0-384c0-35.3-28.7-64-64-64L96 0zM240 256a64 64 0 1 0 0-128 64 64 0 1 0 0 128zm-32 32c-44.2 0-80 35.8-80 80c0 8.8 7.2 16 16 16l192 0c8.8 0 16-7.2 16-16c0-44.2-35.8-80-80-80l-64 0zM512 80c0-8.8-7.2-16-16-16s-16 7.2-16 16l0 64c0 8.8 7.2 16 16 16s16-7.2 16-16l0-64zM496 192c-8.8 0-16 7.2-16 16l0 64c0 8.8 7.2 16 16 16s16-7.2 16-16l0-64c0-8.8-7.2-16-16-16zm16 144c0-8.8-7.2-16-16-16s-16 7.2-16 16l0 64c0 8.8 7.2 16 16 16s16-7.2 16-16l0-64z',\n",
       " 'viewBox': [0, 0, 512, 512],\n",
       " 'width': 512,\n",
       " 'height': 512}"
      ]
     },
     "execution_count": null,
     "metadata": {},
     "output_type": "execute_result"
    }
   ],
   "source": [
    "ico = icons['address-book']['svg']['regular']\n",
    "ico"
   ]
  },
  {
   "cell_type": "code",
   "execution_count": null,
   "id": "f1102326",
   "metadata": {},
   "outputs": [],
   "source": [
    "#|export\n",
    "def get_svg(ico, w=None, viewbox=None, cls=None, xmlns=\"http://www.w3.org/2000/svg\", color=None, style='', **kwargs):\n",
    "    if not viewbox: viewbox = ' '.join(map(str,ico['viewBox']))\n",
    "    path = ico['path']\n",
    "    if w: style += f';max-width: {w}px'\n",
    "    if color: style += f';fill: {color}'\n",
    "    style = f' style=\"{style}\"'\n",
    "    return SvgNotStr(f'<svg xmlns=\"{xmlns}\"{style} viewBox=\"{viewbox}\"><path d=\"{path}\"/></svg>')"
   ]
  },
  {
   "cell_type": "code",
   "execution_count": null,
   "id": "52cc9eae",
   "metadata": {},
   "outputs": [
    {
     "data": {
      "text/html": [
       "<div style=\"max-width: 150px; width: 100%;\"><svg xmlns=\"http://www.w3.org/2000/svg\" style=\";max-width: 18px\" viewBox=\"0 0 512 512\"><path d=\"M384 48c8.8 0 16 7.2 16 16l0 384c0 8.8-7.2 16-16 16L96 464c-8.8 0-16-7.2-16-16L80 64c0-8.8 7.2-16 16-16l288 0zM96 0C60.7 0 32 28.7 32 64l0 384c0 35.3 28.7 64 64 64l288 0c35.3 0 64-28.7 64-64l0-384c0-35.3-28.7-64-64-64L96 0zM240 256a64 64 0 1 0 0-128 64 64 0 1 0 0 128zm-32 32c-44.2 0-80 35.8-80 80c0 8.8 7.2 16 16 16l192 0c8.8 0 16-7.2 16-16c0-44.2-35.8-80-80-80l-64 0zM512 80c0-8.8-7.2-16-16-16s-16 7.2-16 16l0 64c0 8.8 7.2 16 16 16s16-7.2 16-16l0-64zM496 192c-8.8 0-16 7.2-16 16l0 64c0 8.8 7.2 16 16 16s16-7.2 16-16l0-64c0-8.8-7.2-16-16-16zm16 144c0-8.8-7.2-16-16-16s-16 7.2-16 16l0 64c0 8.8 7.2 16 16 16s16-7.2 16-16l0-64z\"/></svg></div>"
      ],
      "text/plain": [
       "'<svg xmlns=\"http://www.w3.org/2000/svg\" style=\";max-width: 18px\" viewBox=\"0 0 512 512\"><path d=\"M384 48c8.8 0 16 7.2 16 16l0 384c0 8.8-7.2 16-16 16L96 464c-8.8 0-16-7.2-16-16L80 64c0-8.8 7.2-16 16-16l288 0zM96 0C60.7 0 32 28.7 32 64l0 384c0 35.3 28.7 64 64 64l288 0c35.3 0 64-28.7 64-64l0-384c0-35.3-28.7-64-64-64L96 0zM240 256a64 64 0 1 0 0-128 64 64 0 1 0 0 128zm-32 32c-44.2 0-80 35.8-80 80c0 8.8 7.2 16 16 16l192 0c8.8 0 16-7.2 16-16c0-44.2-35.8-80-80-80l-64 0zM512 80c0-8.8-7.2-16-16-16s-16 7.2-16 16l0 64c0 8.8 7.2 16 16 16s16-7.2 16-16l0-64zM496 192c-8.8 0-16 7.2-16 16l0 64c0 8.8 7.2 16 16 16s16-7.2 16-16l0-64c0-8.8-7.2-16-16-16zm16 144c0-8.8-7.2-16-16-16s-16 7.2-16 16l0 64c0 8.8 7.2 16 16 16s16-7.2 16-16l0-64z\"/></svg>'"
      ]
     },
     "execution_count": null,
     "metadata": {},
     "output_type": "execute_result"
    }
   ],
   "source": [
    "get_svg(ico, w=18)"
   ]
  },
  {
   "cell_type": "code",
   "execution_count": null,
   "id": "ad3183fb",
   "metadata": {},
   "outputs": [
    {
     "data": {
      "text/html": [
       "<div style=\"max-width: 150px; width: 100%;\"><svg xmlns=\"http://www.w3.org/2000/svg\" style=\";max-width: 18px;fill: #ff0000\" viewBox=\"0 0 512 512\"><path d=\"M384 48c8.8 0 16 7.2 16 16l0 384c0 8.8-7.2 16-16 16L96 464c-8.8 0-16-7.2-16-16L80 64c0-8.8 7.2-16 16-16l288 0zM96 0C60.7 0 32 28.7 32 64l0 384c0 35.3 28.7 64 64 64l288 0c35.3 0 64-28.7 64-64l0-384c0-35.3-28.7-64-64-64L96 0zM240 256a64 64 0 1 0 0-128 64 64 0 1 0 0 128zm-32 32c-44.2 0-80 35.8-80 80c0 8.8 7.2 16 16 16l192 0c8.8 0 16-7.2 16-16c0-44.2-35.8-80-80-80l-64 0zM512 80c0-8.8-7.2-16-16-16s-16 7.2-16 16l0 64c0 8.8 7.2 16 16 16s16-7.2 16-16l0-64zM496 192c-8.8 0-16 7.2-16 16l0 64c0 8.8 7.2 16 16 16s16-7.2 16-16l0-64c0-8.8-7.2-16-16-16zm16 144c0-8.8-7.2-16-16-16s-16 7.2-16 16l0 64c0 8.8 7.2 16 16 16s16-7.2 16-16l0-64z\"/></svg></div>"
      ],
      "text/plain": [
       "'<svg xmlns=\"http://www.w3.org/2000/svg\" style=\";max-width: 18px;fill: #ff0000\" viewBox=\"0 0 512 512\"><path d=\"M384 48c8.8 0 16 7.2 16 16l0 384c0 8.8-7.2 16-16 16L96 464c-8.8 0-16-7.2-16-16L80 64c0-8.8 7.2-16 16-16l288 0zM96 0C60.7 0 32 28.7 32 64l0 384c0 35.3 28.7 64 64 64l288 0c35.3 0 64-28.7 64-64l0-384c0-35.3-28.7-64-64-64L96 0zM240 256a64 64 0 1 0 0-128 64 64 0 1 0 0 128zm-32 32c-44.2 0-80 35.8-80 80c0 8.8 7.2 16 16 16l192 0c8.8 0 16-7.2 16-16c0-44.2-35.8-80-80-80l-64 0zM512 80c0-8.8-7.2-16-16-16s-16 7.2-16 16l0 64c0 8.8 7.2 16 16 16s16-7.2 16-16l0-64zM496 192c-8.8 0-16 7.2-16 16l0 64c0 8.8 7.2 16 16 16s16-7.2 16-16l0-64c0-8.8-7.2-16-16-16zm16 144c0-8.8-7.2-16-16-16s-16 7.2-16 16l0 64c0 8.8 7.2 16 16 16s16-7.2 16-16l0-64z\"/></svg>'"
      ]
     },
     "execution_count": null,
     "metadata": {},
     "output_type": "execute_result"
    }
   ],
   "source": [
    "get_svg(ico, w=18, color='#ff0000')"
   ]
  },
  {
   "cell_type": "code",
   "execution_count": null,
   "id": "bdea3cde",
   "metadata": {},
   "outputs": [],
   "source": [
    "#| export\n",
    "def _svgs(o): return {k:get_svg(v) for k,v in o.items()}\n",
    "\n",
    "def _name(o):\n",
    "    if o[0].isdigit(): o = '_'+o\n",
    "    return o.replace('-','_')\n",
    "\n",
    "svgs = dict2obj({_name(k):_svgs(v['svg']) for k,v in icons.items()})"
   ]
  },
  {
   "cell_type": "code",
   "execution_count": null,
   "id": "c3caf71e",
   "metadata": {},
   "outputs": [
    {
     "data": {
      "text/html": [
       "<div style=\"max-width: 100px; width: 100%;\"><svg xmlns=\"http://www.w3.org/2000/svg\" style=\"\" viewBox=\"0 0 320 512\"><path d=\"M0 192C0 103.6 71.6 32 160 32s160 71.6 160 160l0 128c0 88.4-71.6 160-160 160S0 408.4 0 320L0 192zM160 96c-53 0-96 43-96 96l0 128c0 53 43 96 96 96s96-43 96-96l0-128c0-53-43-96-96-96z\"/></svg></div>"
      ],
      "text/plain": [
       "'<svg xmlns=\"http://www.w3.org/2000/svg\" style=\"\" viewBox=\"0 0 320 512\"><path d=\"M0 192C0 103.6 71.6 32 160 32s160 71.6 160 160l0 128c0 88.4-71.6 160-160 160S0 408.4 0 320L0 192zM160 96c-53 0-96 43-96 96l0 128c0 53 43 96 96 96s96-43 96-96l0-128c0-53-43-96-96-96z\"/></svg>'"
      ]
     },
     "execution_count": null,
     "metadata": {},
     "output_type": "execute_result"
    }
   ],
   "source": [
    "svgs._0.solid.width(100)"
   ]
  },
  {
   "cell_type": "code",
   "execution_count": null,
   "id": "2f0f65e3",
   "metadata": {},
   "outputs": [],
   "source": [
    "#| export\n",
    "def _dims(o): return {k:(v['height'],v['width']) for k,v in o.items()}\n",
    "\n",
    "dims = dict2obj({_name(k):_dims(v['svg']) for k,v in icons.items()})"
   ]
  },
  {
   "cell_type": "code",
   "execution_count": null,
   "id": "4523ec85",
   "metadata": {},
   "outputs": [
    {
     "data": {
      "text/plain": [
       "(512, 320)"
      ]
     },
     "execution_count": null,
     "metadata": {},
     "output_type": "execute_result"
    }
   ],
   "source": [
    "dims._0.solid"
   ]
  },
  {
   "cell_type": "markdown",
   "id": "474e14b4",
   "metadata": {},
   "source": [
    "## Export -"
   ]
  },
  {
   "cell_type": "code",
   "execution_count": null,
   "id": "d211e8e2",
   "metadata": {},
   "outputs": [],
   "source": [
    "#|hide\n",
    "import nbdev; nbdev.nbdev_export()"
   ]
  }
 ],
 "metadata": {
  "kernelspec": {
   "display_name": "python3",
   "language": "python",
   "name": "python3"
  }
 },
 "nbformat": 4,
 "nbformat_minor": 5
}
